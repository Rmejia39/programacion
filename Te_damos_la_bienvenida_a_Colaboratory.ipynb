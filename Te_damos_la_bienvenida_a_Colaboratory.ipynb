{
  "cells": [
    {
      "cell_type": "markdown",
      "metadata": {
        "id": "view-in-github",
        "colab_type": "text"
      },
      "source": [
        "<a href=\"https://colab.research.google.com/github/Rmejia39/programacion/blob/main/Te_damos_la_bienvenida_a_Colaboratory.ipynb\" target=\"_parent\"><img src=\"https://colab.research.google.com/assets/colab-badge.svg\" alt=\"Open In Colab\"/></a>"
      ]
    },
    {
      "cell_type": "code",
      "source": [
        "Monto=float(input(\"¿Cuál es su actividad económica?:\"))\n",
        "if Monto>0.01 and Monto<=500:\n",
        "  impuesto= Monto -0.01\n",
        "  resultado=(impuesto/1000)*0.0+1.5\n",
        "\n",
        "elif Monto>500.01 and Monto<=1000:\n",
        "    impuesto=Monto - 500.01\n",
        "    resultado=(impuesto/1000)*3.0+1.5\n",
        "\n",
        "elif Monto>1000.01 and Monto<=2000:\n",
        "    impuesto=Monto - 1000.01\n",
        "    resultado=(impuesto/1000)*3.0+3.0\n",
        "\n",
        "elif Monto>2000.01 and Monto<=3000:\n",
        "    impuesto=Monto - 2000.01\n",
        "    resultado=(impuesto/1000)*2.0+9.0\n",
        "\n",
        "elif Monto>3000.01 and Monto<=6000:\n",
        "    impuesto=Monto - 3000.01\n",
        "    resultado=(impuesto/1000)*2.0+9.0\n",
        "\n",
        "elif Monto>80000.01 and Monto<=180000:\n",
        "    impuesto=Monto - 80000.01\n",
        "    resultado=(impuesto/1000)*2+15\n",
        "elif Monto>18000.01 and Monto<=30000:\n",
        "    impuesto=Monto - 18000.01\n",
        "    resultado=(impuesto/1000)*2+39\n",
        "\n",
        "elif Monto>30000.01 and Monto<=60000:\n",
        "    impuesto=Monto - 30000.01\n",
        "    resultado=(impuesto/1000)*1.0+63.0\n",
        "\n",
        "elif Monto>60000.01 and Monto<=100000:\n",
        "    impuesto=Monto - 60000.01\n",
        "    resultado=(impuesto/1000)*0.8+93\n",
        "\n",
        "elif Monto>100000.01 and Monto<=20000:\n",
        "    resultado=(impuesto/1000)*0.7+125\n",
        "\n",
        "elif Monto>20000.01 and Monto<=300000:\n",
        "    impuesto=Monto - 200000.01\n",
        "    resultado=(impuesto/1000)*0.6+195\n",
        "\n",
        "elif Monto>300000.01 and Monto<=400000:\n",
        "    impuesto=Monto - 300000.01\n",
        "    resultado=(impuesto/1000)*0.45+255\n",
        "\n",
        "elif Monto>400000.01 and Monto<=500000:\n",
        "    impuesto=Monto - 400000.01 \n",
        "    resultado=(impuesto/1000)*0.4+300\n",
        "\n",
        "elif Monto>500000.01 and Monto<=1000000:\n",
        "    impuesto=Monto - 500000.01\n",
        "    resultado=(impuesto/1000)*0.30+340\n",
        "\n",
        "elif Monto>1000000.01 and Monto<=99999999:\n",
        "    impuesto=Monto - 1000000.01\n",
        "    resultado=(impuesto/1000)*0.18+490\n",
        "\n",
        "else:\n",
        "  impuesto=0\n",
        "print(\"El resultado a pagar es $:\" ,resultado)\n"
      ],
      "metadata": {
        "id": "DP7Tb0EysVLu",
        "outputId": "21a42b26-7c1e-4e00-b593-8de52259bd6b",
        "colab": {
          "base_uri": "https://localhost:8080/"
        }
      },
      "execution_count": 9,
      "outputs": [
        {
          "output_type": "stream",
          "name": "stdout",
          "text": [
            "¿Cuál es su actividad económica?:300000\n",
            "El resultado a pagar es $: 254.999994\n"
          ]
        }
      ]
    }
  ],
  "metadata": {
    "colab": {
      "collapsed_sections": [],
      "name": "Te damos la bienvenida a Colaboratory",
      "toc_visible": true,
      "provenance": [],
      "include_colab_link": true
    },
    "kernelspec": {
      "display_name": "Python 3",
      "name": "python3"
    }
  },
  "nbformat": 4,
  "nbformat_minor": 0
}