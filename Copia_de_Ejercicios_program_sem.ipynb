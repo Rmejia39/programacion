{
  "nbformat": 4,
  "nbformat_minor": 0,
  "metadata": {
    "colab": {
      "provenance": [],
      "include_colab_link": true
    },
    "kernelspec": {
      "name": "python3",
      "display_name": "Python 3"
    },
    "language_info": {
      "name": "python"
    }
  },
  "cells": [
    {
      "cell_type": "markdown",
      "metadata": {
        "id": "view-in-github",
        "colab_type": "text"
      },
      "source": [
        "<a href=\"https://colab.research.google.com/github/Rmejia39/programacion/blob/main/Copia_de_Ejercicios_program_sem.ipynb\" target=\"_parent\"><img src=\"https://colab.research.google.com/assets/colab-badge.svg\" alt=\"Open In Colab\"/></a>"
      ]
    },
    {
      "cell_type": "markdown",
      "source": [
        " Desarolle un algoritmo en python que permita obtener los descuento IIIS,AFP,vacaciones,aguinaldo etc uno para empresa y otro para personas favor investigue los datos correspondientes segun la ley. el usuario debera ingresar el sueldo y que el sistema le diga el valor neto a pagarle y las deduciones.(30%)\n",
        "\n"
      ],
      "metadata": {
        "id": "rrNKnF-rSQ3R"
      }
    },
    {
      "cell_type": "code",
      "execution_count": null,
      "metadata": {
        "colab": {
          "base_uri": "https://localhost:8080/"
        },
        "id": "R_K3qUNIchvp",
        "outputId": "f4e400c6-f5ba-4480-fc11-2bad3859357a"
      },
      "outputs": [
        {
          "name": "stdout",
          "output_type": "stream",
          "text": [
            "el salario es de: 180000\n"
          ]
        }
      ],
      "source": [
        "empresa = float(input('el salario es de: '))\n",
        "ISSS = empresa * 0.075\n",
        "AFP = empresa * 0.015\n",
        "VCN = empresa * 0.030\n",
        "AGN = empresa * 0.050\n",
        "desc = (ISSS + AFP)\n",
        "aumen = ( VCN + AGN)\n",
        "salario = empresa - (ISSS + AFP) + (VCN + AGN)"
      ]
    },
    {
      "cell_type": "code",
      "source": [
        "print('el descuentode AFP es de:',AFP,'el descuento de:',ISSS,'el aumento por trabajar en vacaciones es de:',VCN,'el aumentode su aguinaldo es de:',AGN)"
      ],
      "metadata": {
        "colab": {
          "base_uri": "https://localhost:8080/"
        },
        "id": "UYugRDu2q0BL",
        "outputId": "4e1f7090-600c-4c39-c808-e229cdcf32ba"
      },
      "execution_count": null,
      "outputs": [
        {
          "output_type": "stream",
          "name": "stdout",
          "text": [
            "el descuentode AFP es de: 2700.0 el descuento de: 13500.0 el aumento por trabajar en vacaciones es de: 5400.0 el aumentode su aguinaldo es de: 9000.0\n"
          ]
        }
      ]
    },
    {
      "cell_type": "code",
      "source": [
        "if (salario <= 100000.00):\n",
        "  print('su salario es de:',salario)\n",
        "  print('esta libre de impuestos ISR')\n",
        "\n",
        "elif(salario <= 150000.00):\n",
        "  tramoII = salario * 0.10\n",
        "  salariorenta = (salario - tramoII)\n",
        "  print('el ISR total a pagar es de:',tramoII)\n",
        "  print('su salario es de:',salariorenta)\n",
        "\n",
        "elif(salario <= 200000.00):\n",
        "  tramoIII = salario * 0.20\n",
        "  salariorenta = (salario - tramoIII)\n",
        "  print('el ISR a pagar es de:',tramoIII)\n",
        "  print('su salario es de:',salariorenta)\n",
        "\n",
        "elif(salario >= 200000.00):\n",
        "  tramoIV = salario * 0.30 \n",
        "  salariorenta =(salario - tramoIV)    \n",
        "  print('el ISR a pagar es de:',tramoIV)\n",
        "  print('su salario es de:',salariorenta)\n",
        "\n",
        "else:\n",
        "  print('esta libre de impuesto :)')  "
      ],
      "metadata": {
        "colab": {
          "base_uri": "https://localhost:8080/"
        },
        "id": "PBs_NwF4sT0g",
        "outputId": "d0ee7b53-51bd-4061-8101-694d49d040e1"
      },
      "execution_count": null,
      "outputs": [
        {
          "output_type": "stream",
          "name": "stdout",
          "text": [
            "su salario es de: 17820.0\n",
            "esta libre de impuestos ISR\n"
          ]
        }
      ]
    },
    {
      "cell_type": "markdown",
      "source": [
        "SEGUNDA PARTE\n"
      ],
      "metadata": {
        "id": "5StuH-cvTMcp"
      }
    },
    {
      "cell_type": "code",
      "source": [
        "salario = float(input('su salario es de:'))\n",
        "ISSS = salario *0.003\n",
        "AFP = salario *0.0625\n",
        "VCN = salario *0.025\n",
        "AGN = salario *0.010\n",
        "desc = (ISSS + AFP)\n",
        "aumen = (VCN + AGN)\n",
        "salario = salario - (ISSS + AFP) + (VCN + AGN)"
      ],
      "metadata": {
        "colab": {
          "base_uri": "https://localhost:8080/"
        },
        "id": "7auyyN4ZxOru",
        "outputId": "2f70d7c6-29bb-4908-f7fd-a9811936fe04"
      },
      "execution_count": null,
      "outputs": [
        {
          "name": "stdout",
          "output_type": "stream",
          "text": [
            "su salario es de:800\n"
          ]
        }
      ]
    },
    {
      "cell_type": "code",
      "source": [
        "print('el descuento de AFP es de:',AFP,'el descuento de ISSS es de:',ISSS,'el aumento por trabajar en vacaciones es de:',VCN,\n",
        "      'el aumento por su aguinaldo es de:',AGN,)"
      ],
      "metadata": {
        "colab": {
          "base_uri": "https://localhost:8080/"
        },
        "id": "emZwPLl0zQvg",
        "outputId": "32c08755-bcab-4feb-84d1-3e23dbe9da1e"
      },
      "execution_count": null,
      "outputs": [
        {
          "output_type": "stream",
          "name": "stdout",
          "text": [
            "el descuento de AFP es de: 50.0 el descuento de ISSS es de: 2.4 el aumento por trabajar en vacaciones es de: 20.0 el aumento por su aguinaldo es de: 8.0\n"
          ]
        }
      ]
    },
    {
      "cell_type": "code",
      "source": [],
      "metadata": {
        "id": "pB6Y9JIOUDEK"
      },
      "execution_count": null,
      "outputs": []
    },
    {
      "cell_type": "code",
      "source": [
        "if (salario <= 520.00):\n",
        "  print('su salario es de:',salario)\n",
        "  print('esta libre de impuesto ISR') \n",
        "\n",
        "elif(salario <= 900.00):\n",
        "  tramoII = salario *0.10\n",
        "  salariorenta = (salario - tramoII)\n",
        "  print('el ISR total a pagar es de:',tramoII)\n",
        "  print('su salario es de:',salariorenta)\n",
        "\n",
        "elif(salario <= 2000.00):\n",
        "  tramoIII = salario *0,20\n",
        "  salariorenta = (salario - tramoIII)\n",
        "  print('el ISR total a pagar es de:',tramoIII)\n",
        "  print('su salario es de:',salariorenta)\n",
        "\n",
        "elif(salario >= 2000):\n",
        "  tramoIV = salario *0.30 \n",
        "  salariorenta = (salario - tramoIV)\n",
        "  print('el ISR total a pagar es de:',tramoIV)\n",
        "  print('su salario es de:',salariorenta)\n",
        "\n",
        "else:\n",
        "  print('esta libre de impuesto ISR')  \n"
      ],
      "metadata": {
        "colab": {
          "base_uri": "https://localhost:8080/"
        },
        "id": "9BslwAvj0Mko",
        "outputId": "3a30f6e2-c375-4da1-ec69-815287b324d7"
      },
      "execution_count": null,
      "outputs": [
        {
          "output_type": "stream",
          "name": "stdout",
          "text": [
            "el ISR total a pagar es de: 77.56\n",
            "su salario es de: 698.04\n"
          ]
        }
      ]
    },
    {
      "cell_type": "code",
      "source": [
        "#DESARROLLE UN ALGORITMO QUE CALCULE EL IMPUESTO A LAS ACTIVIDADES ECONÓMICAS"
      ],
      "metadata": {
        "id": "GqEuJXCHW2eS"
      },
      "execution_count": null,
      "outputs": []
    },
    {
      "cell_type": "code",
      "source": [
        "Monto=float(input(\"¿Cuál es su actividad económica?:\"))\n",
        "if Monto>0.01 and Monto<=500:\n",
        "  impuesto= Monto -0.01\n",
        "  resultado=(impuesto/1000)*0.0+1.5\n",
        "\n",
        "elif Monto>500.01 and Monto<=1000:\n",
        "    impuesto=Monto - 500.01\n",
        "    resultado=(impuesto/1000)*3.0+1.5\n",
        "\n",
        "elif Monto>1000.01 and Monto<=2000:\n",
        "    impuesto=Monto - 1000.01\n",
        "    resultado=(impuesto/1000)*3.0+3.0\n",
        "\n",
        "elif Monto>2000.01 and Monto<=3000:\n",
        "    impuesto=Monto - 2000.01\n",
        "    resultado=(impuesto/1000)*2.0+9.0\n",
        "\n",
        "elif Monto>3000.01 and Monto<=6000:\n",
        "    impuesto=Monto - 3000.01\n",
        "    resultado=(impuesto/1000)*2.0+9.0\n",
        "\n",
        "elif Monto>80000.01 and Monto<=180000:\n",
        "    impuesto=Monto - 80000.01\n",
        "    resultado=(impuesto/1000)*2+15\n",
        "elif Monto>18000.01 and Monto<=30000:\n",
        "    impuesto=Monto - 18000.01\n",
        "    resultado=(impuesto/1000)*2+39\n",
        "\n",
        "elif Monto>30000.01 and Monto<=60000:\n",
        "    impuesto=Monto - 30000.01\n",
        "    resultado=(impuesto/1000)*1.0+63.0\n",
        "\n",
        "elif Monto>60000.01 and Monto<=100000:\n",
        "    impuesto=Monto - 60000.01\n",
        "    resultado=(impuesto/1000)*0.8+93\n",
        "\n",
        "elif Monto>100000.01 and Monto<=20000:\n",
        "    resultado=(impuesto/1000)*0.7+125\n",
        "\n",
        "elif Monto>20000.01 and Monto<=300000:\n",
        "    impuesto=Monto - 200000.01\n",
        "    resultado=(impuesto/1000)*0.6+195\n",
        "\n",
        "elif Monto>300000.01 and Monto<=400000:\n",
        "    impuesto=Monto - 300000.01\n",
        "    resultado=(impuesto/1000)*0.45+255\n",
        "\n",
        "elif Monto>400000.01 and Monto<=500000:\n",
        "    impuesto=Monto - 400000.01 \n",
        "    resultado=(impuesto/1000)*0.4+300\n",
        "\n",
        "elif Monto>500000.01 and Monto<=1000000:\n",
        "    impuesto=Monto - 500000.01\n",
        "    resultado=(impuesto/1000)*0.30+340\n",
        "\n",
        "elif Monto>1000000.01 and Monto<=99999999:\n",
        "    impuesto=Monto - 1000000.01\n",
        "    resultado=(impuesto/1000)*0.18+490\n",
        "\n",
        "else:\n",
        "  impuesto=0\n",
        "print(\"El resultado a pagar es $:\" ,resultado)\n"
      ],
      "metadata": {
        "id": "DP7Tb0EysVLu",
        "outputId": "000686b3-54d3-4b16-d8da-f1659ddba6f4",
        "colab": {
          "base_uri": "https://localhost:8080/"
        }
      },
      "execution_count": null,
      "outputs": [
        {
          "output_type": "stream",
          "name": "stdout",
          "text": [
            "¿Cuál es su actividad económica?:500\n",
            "El resultado a pagar es $: 1.5\n"
          ]
        }
      ]
    },
    {
      "cell_type": "code",
      "source": [],
      "metadata": {
        "id": "3ZFxyf26aXQh"
      },
      "execution_count": null,
      "outputs": []
    },
    {
      "cell_type": "code",
      "source": [
        "#CONVERSOR DE ÁREA (SUPERFICIE) USANDO LOS DICCIONARIOS Y FUNCIONES DE USUARIO\n",
        "#1\n",
        "def pies2_metros2 ():\n",
        "  pies2 = int(input(\"Digitar la cantidad de pies cuadrados a convertir \"))\n",
        "  metros2 = pies2 / 10.764\n",
        "  print (pies2,\"Pies^2 corresponden a \",metros2,\"metros^2.\")\n",
        "#2\n",
        "def metros2_hectareas ():\n",
        "  metros2 = int(input(\"Digitar la cantidad de metros cuadrados a convertir \"))\n",
        "  hectareas = metros2 / 10000\n",
        "  print (metros2,\"metros^2 corresponden a \",hectareas,\"hectareas.\")\n",
        "#3\n",
        "def metros2_pies2 ():\n",
        "  metros2 = int(input(\"Digitar la cantidad de metros cuadrados a convertir \"))\n",
        "  pies2 = metros2 * 10.764\n",
        "  print (metros2,\"metros^2 corresponden a \",pies2,\"pies^2.\")\n",
        "#4\n",
        "def yardas2_pies2 ():\n",
        "  yardas2 = int(input(\"Digitar la cantidad de yardas cuadradas a convertir \"))\n",
        "  pies2 = yardas2 * 9\n",
        "  print (yardas2,\"yardas^2 corresponden a \",pies2,\"pies^2.\")\n",
        "#5\n",
        "def hectareas_yardas2 ():\n",
        "  hectareas = int(input(\"Digitar la cantidad de hectareas a convertir \"))\n",
        "  yardas2 = hectareas * 11960\n",
        "  print (hectareas,\"hectareas corresponden a \",yardas2,\"yardas^2.\")\n",
        "#6\n",
        "def manzanas_varas2 ():\n",
        "  manzanas = int(input(\"Digitar la cantidad de manzanas a convertir \"))\n",
        "  varas2 = manzanas * 0.84\n",
        "  print (manzanas,\"manzanas corresponden a \",varas2,\"varas^2.\")\n",
        "#7\n",
        "def tarea_metro2 ():\n",
        "  tarea = int(input(\"Digitar la cantidad de tareas a convertir \"))\n",
        "  metro2 = tarea * 628.86\n",
        "  print (tarea,\"tareas corresponden a \",metro2,\"metros^2.\")\n",
        "#8\n",
        "def metros2_varas2 ():\n",
        "  metros2 = int(input(\"Digitar la cantidad de metros cuadrados a convertir \"))\n",
        "  varas2 = metros2 / 0.7\n",
        "  print (metros2,\"metros2 corresponden a \",varas2,\"varas^2.\")\n",
        "#9\n",
        "def tarea_hectarea ():\n",
        "  tarea = int(input(\"Digitar la cantidad de tareas a convertir \"))\n",
        "  hectareas = tarea * 0.06288\n",
        "  print (tarea,\"tareas corresponden a \",hectareas,\"hectareas.\")\n",
        "#10\n",
        "def tarea_manzana ():\n",
        "  tarea = int(input(\"Digitar la cantidad de tareas a convertir \"))\n",
        "  manzana= tarea * 0.06288\n",
        "  print (tarea,\"tareas corresponden a \",manzana,\"manzanas.\")\n",
        "\n",
        "#MENU\n",
        "opcion = int( input(\"\\n**MENU**\\n\\n\"\n",
        "                    \"1. Pies^2 a Metros^2 \\n\"\n",
        "                    \"2. Metros^2 a Hectareas \\n\"\n",
        "                    \"3. Metros^2 a Pies^2 \\n\"\n",
        "                    \"4. Yardas^2 a Pies^2 \\n\"\n",
        "                    \"5. Hectareas a Yardas^2 \\n\"\n",
        "                    \"6. Manzanas a Varas^2 \\n\"\n",
        "                    \"7. Tareas a Metros^2 \\n\"\n",
        "                    \"8. Metros^2 a Varas^2 \\n\"\n",
        "                    \"9. Tareas a Hectareas \\n\"\n",
        "                    \"10. Tareas a Manzanas \\n\"\n",
        "                    \"Ingrese al opcion que desea \\n\\n\"))\n",
        "#DICCIONARIO\n",
        "Diccionario = {1:pies2_metros2,\n",
        "               2:metros2_hectareas,\n",
        "               3:metros2_pies2,\n",
        "               4:yardas2_pies2,\n",
        "               5:hectareas_yardas2,\n",
        "               6:manzanas_varas2,\n",
        "               7:tarea_metro2,\n",
        "               8:metros2_varas2,\n",
        "               9:tarea_hectarea,\n",
        "               10:tarea_manzana}\n"
      ],
      "metadata": {
        "colab": {
          "base_uri": "https://localhost:8080/"
        },
        "id": "RWGLuF7GoZ6L",
        "outputId": "2c957a3b-9911-44bb-c7e6-5691df3274db"
      },
      "execution_count": null,
      "outputs": [
        {
          "name": "stdout",
          "output_type": "stream",
          "text": [
            "\n",
            "**MENU**\n",
            "\n",
            "1. Pies^2 a Metros^2 \n",
            "2. Metros^2 a Hectareas \n",
            "3. Metros^2 a Pies^2 \n",
            "4. Yardas^2 a Pies^2 \n",
            "5. Hectareas a Yardas^2 \n",
            "6. Manzanas a Varas^2 \n",
            "7. Tareas a Metros^2 \n",
            "8. Metros^2 a Varas^2 \n",
            "9. Tareas a Hectareas \n",
            "10. Tareas a Manzanas \n",
            "Ingrese al opcion que desea \n",
            "\n",
            "5\n"
          ]
        }
      ]
    },
    {
      "cell_type": "code",
      "source": [
        "#CAJERO ULTIMO EJERCICIO\n",
        "monto100 = 100\n",
        "monto50 = 100\n",
        "monto20 = 100\n",
        "monto10 = 100\n",
        "monto5 = 100\n",
        "monto1 = 100\n",
        "monto025 = 100\n",
        "monto010 = 100\n",
        "monto05 = 100\n",
        "\n",
        "def sacar_dinero(cantidad):\n",
        "  global monto100, monto50, monto20, monto10, monto5,monto1,monto025,monto010,monto05\n",
        "  if cantidad <= 100 * monto100 + 50 * monto50 + 20 * monto20 + 10 * monto10 + 5 * monto5 + 1 * monto1 + 0.25 * monto025 + 0.10 * monto010 + 0.05 * monto05:\n",
        "    \n",
        "    \n",
        "    de100 = int(cantidad/100)\n",
        "    cantidad = cantidad % 100\n",
        "    if de100 >= monto100: # y hay suficiebtes billetes de 100\n",
        "        cantidad = cantidad + (de100 - monto100) * 100\n",
        "        de100 = monto100\n",
        "  \n",
        "    de50 = int(cantidad / 50)\n",
        "    cantidad = cantidad % 50\n",
        "    if de50 >= monto50: # Si hay suficientes billetes de 50\n",
        "      cantidad = cantidad + (de50 - monto50) * 50\n",
        "      de50 = monto50\n",
        " \n",
        "    de20 = int(cantidad / 20)\n",
        "    cantidad = cantidad % 20\n",
        "    if de20 >= monto20: # y hay suficientes billetes de 20\n",
        "      cantidad = cantidad + (de20 - monto20) * 20\n",
        "      de20 = monto20\n",
        " \n",
        "    de10 = int(cantidad / 10)\n",
        "    cantidad = cantidad % 10\n",
        "    if de10 >= monto10: # y hay suficientes billetes de 10\n",
        "      cantidad = cantidad + (de10 - monto10) * 0.10\n",
        "      de10 = monto10\n",
        " \n",
        "    de5 = int(cantidad / 5)\n",
        "    cantidad = cantidad % 5\n",
        "    if de5  >= monto5: # y hay suficientes billetes de 5\n",
        "        cantidad = cantidad + (de5 - monto5) * 0.05\n",
        "        de5 = monto5\n",
        "\n",
        "    de1 = int(cantidad / 1)\n",
        "    cantidad = cantidad % 1\n",
        "    if de1  >= monto1: # y hay suficientes billetes de 1\n",
        "        cantidad = cantidad + (de1 - monto1) * 1\n",
        "        de1 = monto1\n",
        "\n",
        "    de025 = int(cantidad / 0.25)\n",
        "    cantidad = cantidad % 0.25\n",
        "    if de025  >= monto025: # y hay suficientes monedas de 0.25\n",
        "        cantidad = cantidad + (de025 - monto025) * 0.25\n",
        "        de025 = monto025\n",
        "\n",
        "    de05 = int(cantidad / 0.05)\n",
        "    cantidad = cantidad % 0.05\n",
        "    if de05  >= monto05: # y hay suficientes monedas de 0.05\n",
        "        cantidad = cantidad + (de05 - monto05) * 0.05\n",
        "        de05 = monto05\n",
        "\n",
        "    de010 = int(cantidad / 0.10)\n",
        "    cantidad = cantidad % 0.10\n",
        "    if de010 >= monto010: # y hay suficientes monedas de 0.10\n",
        "        cantidad = cantidad + (de010 - monto010) * 0.10\n",
        "        de010 = monto010\n",
        "\n",
        "    # Si todo ha ido bien, la cantidad que resta por entregar es nula:\n",
        "    if cantidad == 0:\n",
        "      # Así que hacemos efectiva la extracción\n",
        "      monto100 = monto100 - de100\n",
        "      monto50 = monto50 - de50\n",
        "      monto20 = monto20 - de20\n",
        "      monto10 = monto10 - de10\n",
        "      monto5 = monto5 - de5\n",
        "      monto1 = monto1 - de1\n",
        "      monto025 = monto025 - de025\n",
        "      monto05 = monto05 - de05\n",
        "      monto010 = monto010 - de010\n",
        "      \n",
        "      return [de100, de50, de20, de10, de5, de1, de025, de05, de010]\n",
        "\n",
        "    else: # Y si no, devolvemos la lista con nueve ceros:\n",
        "      return [0, 0, 0, 0, 0, 0, 0, 0, 0]\n",
        "  else:\n",
        "    return [-1, -1, -1, -1, -1, -1, -1, -1, -1]\n",
        " \n",
        "try:\n",
        "    c = float(input('Cantidad a extraer: '))\n",
        "    resultado = sacar_dinero(c)\n",
        "    if resultado == [0,0,0,0,0,0,0,0,0]:\n",
        "        print ('No hay desglose de billetes para su importe')\n",
        "    elif resultado == [-1,-1,-1,-1,-1,-1,-1,-1,-1]:\n",
        "        print ('No hay suficientes billetes')\n",
        "    else:\n",
        "        print ('Billetes de 100:', resultado[0])\n",
        "        print ('Billetes de 50:', resultado[1])\n",
        "        print ('Billetes de 20:', resultado[2])\n",
        "        print ('Billetes de 10:', resultado[3])\n",
        "        print ('Billetes de 5:', resultado [4])\n",
        "        print ('Billetes de 1:', resultado [5])\n",
        "        print ('Monedas de 0.25:', resultado [6])\n",
        "        print ('Monedas de 0.10:', resultado [7])\n",
        "        print ('Monedas de 0.05:', resultado [8])\n",
        "except:\n",
        "    print ('Importe incorrecto')"
      ],
      "metadata": {
        "colab": {
          "base_uri": "https://localhost:8080/"
        },
        "id": "rLdJkwfm47CZ",
        "outputId": "e55bf810-7b60-46b6-d3db-c107681b1002"
      },
      "execution_count": null,
      "outputs": [
        {
          "output_type": "stream",
          "name": "stdout",
          "text": [
            "Cantidad a extraer: 0.10\n",
            "Billetes de 100: 0\n",
            "Billetes de 50: 0\n",
            "Billetes de 20: 0\n",
            "Billetes de 10: 0\n",
            "Billetes de 5: 0\n",
            "Billetes de 1: 0\n",
            "Monedas de 0.25: 0\n",
            "Monedas de 0.10: 2\n",
            "Monedas de 0.05: 0\n"
          ]
        }
      ]
    },
    {
      "cell_type": "code",
      "source": [
        "#ESTUDIANTES:\n",
        "#KARLA DANIELA TORRES ESPERANZA (USIS046821)\n",
        "#ÁLVARO ANTONIO RIVERA MORÁN (USIS039521)\n",
        "#RIGOBERTO ALEXANDER MEJÍA SORTO (USIS034921)\n",
        "#DIMAS ISRAEL MELARA ROSALES (USIS047021)"
      ],
      "metadata": {
        "id": "jC68sFSYbdgd"
      },
      "execution_count": null,
      "outputs": []
    }
  ]
}